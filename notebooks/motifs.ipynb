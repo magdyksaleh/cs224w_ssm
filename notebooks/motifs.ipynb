{
 "cells": [
  {
   "cell_type": "code",
   "execution_count": 1,
   "metadata": {},
   "outputs": [],
   "source": [
    "import snap\n",
    "import sys, os\n",
    "sys.path.append(os.path.abspath(os.path.join(os.path.dirname(__file__), os.path.pardir)))"
   ]
  },
  {
   "cell_type": "code",
   "execution_count": null,
   "metadata": {},
   "outputs": [],
   "source": [
    "class motifCounter(object):\n",
    "    def __init__(self, num_nodes, subgraph_path = \"data/subgraphs\"):\n",
    "        self.motif_counts = {3:13, 4:500}\n",
    "        self.subgraph_path = subgraph_path\n",
    "        if len(os.listdir()) == 0:\n",
    "            self.create_motifs()\n",
    "        self.motifs = [snap.LoadEdgeList(snap.PNGraph, os.path.join(self.subgraph_path,\"{}.txt\".format(i)), 0, 1) for i in range(motif_counts[num_nodes])]\n",
    "        self.motif_nodes = num_nodes\n",
    "        \n",
    "    def match(self, G1, G2):\n",
    "        if G1.GetEdges() > G2.GetEdges():\n",
    "            return False\n",
    "        else:\n",
    "            G = snap.ConvertGraph(snap.PNGraph, G2, RenumberNodes = True)\n",
    "            H = snap.ConvertGraph(snap.PNGraph, G1, RenumberNodes = True)\n",
    "            \n",
    "        for p in permutations(range(self.motif_nodes)):\n",
    "            edge = G.BegEI()\n",
    "            matches = True\n",
    "            while edge < G.EndEI():\n",
    "                if not H.IsEdge(p[edge.GetSrcNId()], p[edge.GetDstNId()]):\n",
    "                    matches = False\n",
    "                    break\n",
    "                edge.Next()\n",
    "            if matches:\n",
    "                break\n",
    "        return matches\n",
    "    \n",
    "    def create_motifs(self):\n",
    "        graph_list = []\n",
    "        for graph in self.enumerate_graphs(self.num_nodes):\n",
    "            for generated_subgraph in graph_list:\n",
    "                isomorphic = self.match(graph, generated_subgraph)\n",
    "                if isomorphic:\n",
    "                    break\n",
    "            if not isomorphic:\n",
    "                graph_list.append(graph)\n",
    "        \n",
    "            "
   ]
  }
 ],
 "metadata": {
  "kernelspec": {
   "display_name": "Python 2",
   "language": "python",
   "name": "python2"
  },
  "language_info": {
   "codemirror_mode": {
    "name": "ipython",
    "version": 2
   },
   "file_extension": ".py",
   "mimetype": "text/x-python",
   "name": "python",
   "nbconvert_exporter": "python",
   "pygments_lexer": "ipython2",
   "version": "2.7.10"
  }
 },
 "nbformat": 4,
 "nbformat_minor": 2
}
