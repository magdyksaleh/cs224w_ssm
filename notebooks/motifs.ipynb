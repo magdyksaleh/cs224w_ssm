{
 "cells": [
  {
   "cell_type": "code",
   "execution_count": 33,
   "metadata": {},
   "outputs": [],
   "source": [
    "import snap\n",
    "import sys, os, glob\n",
    "import itertools\n",
    "import networkx as nx\n",
    "from matplotlib import pyplot as plt\n",
    "import tqdm\n",
    "sys.path.append('../')"
   ]
  },
  {
   "cell_type": "code",
   "execution_count": 34,
   "metadata": {},
   "outputs": [],
   "source": [
    "class MotifCounter(object):\n",
    "    def __init__(self, num_nodes, subgraph_path = \"../data/subgraphs\"):\n",
    "        self.motif_counts = {2:2, 3:13, 4:199}\n",
    "        self.subgraph_path = os.path.join(subgraph_path, str(num_nodes))\n",
    "        if not os.path.exists(self.subgraph_path):\n",
    "            os.makedirs(self.subgraph_path)\n",
    "        self.num_nodes = num_nodes\n",
    "        if len(glob.glob(os.path.join(self.subgraph_path, '*.txt')))==0:\n",
    "            self.motifs = self.create_motifs()\n",
    "            [snap.SaveEdgeList(graph, os.path.join(self.subgraph_path,\"{}.txt\".format(i))) for i,graph in enumerate(self.motifs)]\n",
    "        else:\n",
    "            self.motifs = [snap.LoadEdgeList(snap.PNGraph, os.path.join(self.subgraph_path,\"{}.txt\".format(i)), 0, 1) for i in range(self.motif_counts[num_nodes])]\n",
    "        \n",
    "    def match(self, G1, G2):\n",
    "        if G1.GetEdges() > G2.GetEdges():\n",
    "            return False\n",
    "        else:\n",
    "            G = snap.ConvertGraph(snap.PNGraph, G2, True)\n",
    "            H = snap.ConvertGraph(snap.PNGraph, G1, True)\n",
    "            \n",
    "        for p in itertools.permutations(range(self.num_nodes)):\n",
    "            edge = G.BegEI()\n",
    "            matches = True\n",
    "            while edge < G.EndEI():\n",
    "                if not H.IsEdge(p[edge.GetSrcNId()], p[edge.GetDstNId()]):\n",
    "                    matches = False\n",
    "                    break\n",
    "                edge.Next()\n",
    "            if matches:\n",
    "                break\n",
    "        return matches\n",
    "    \n",
    "    def create_motifs(self, draw=False):\n",
    "        #print(\"hello\")\n",
    "        graph_list = []\n",
    "        num_found = 0\n",
    "        for graph in tqdm.tqdm(self.enumerate_graphs(self.num_nodes), total=2**(self.num_nodes*(self.num_nodes-1))):            \n",
    "            if num_found==0:\n",
    "                graph_list.append(graph)\n",
    "                if draw:\n",
    "                    self.draw_graph(graph, os.path.join(self.subgraph_path, str(num_found)+'.png') )\n",
    "                num_found += 1\n",
    "            else:\n",
    "                for generated_subgraph in graph_list:\n",
    "                    isomorphic = self.match(graph, generated_subgraph)\n",
    "                    if isomorphic:\n",
    "                        break\n",
    "                if not isomorphic:\n",
    "                    if draw:\n",
    "                        self.draw_graph(graph, os.path.join(self.subgraph_path, str(num_found)+'.png') )\n",
    "                    graph_list.append(graph)\n",
    "                    num_found+=1\n",
    "        return graph_list\n",
    "    \n",
    "    def enumerate_graphs(self, k):\n",
    "        for seq in itertools.product(\"01\", repeat=k*(k-1)):\n",
    "            g = snap.TNGraph.New()\n",
    "            for i in range(k): g.AddNode(i)\n",
    "            for i,e in enumerate(seq):\n",
    "                if e=='1':\n",
    "                    start_node = i/(k-1)\n",
    "                    end_node = i % (k-1)\n",
    "                    if end_node >= start_node:\n",
    "                        end_node += 1\n",
    "                    g.AddEdge(start_node, end_node)\n",
    "            if snap.GetMxWcc(g).GetNodes()==k:\n",
    "                yield g \n",
    "            \n",
    "    def draw_graph(self, g, outname):\n",
    "        plt.clf()\n",
    "        G = nx.DiGraph()\n",
    "        for n in g.Nodes():\n",
    "            G.add_node(n.GetId())\n",
    "        for e in g.Edges():\n",
    "            G.add_edge(e.GetSrcNId(), e.GetDstNId())\n",
    "        nx.draw(G)\n",
    "        plt.savefig(outname)\n",
    "        \n",
    "            "
   ]
  },
  {
   "cell_type": "code",
   "execution_count": 35,
   "metadata": {},
   "outputs": [
    {
     "name": "stderr",
     "output_type": "stream",
     "text": [
      " 94%|█████████▎| 3834/4096 [00:13<00:00, 288.07it/s]\n"
     ]
    }
   ],
   "source": [
    "mc = MotifCounter(4)"
   ]
  },
  {
   "cell_type": "code",
   "execution_count": null,
   "metadata": {},
   "outputs": [],
   "source": []
  },
  {
   "cell_type": "code",
   "execution_count": null,
   "metadata": {},
   "outputs": [],
   "source": []
  }
 ],
 "metadata": {
  "kernelspec": {
   "display_name": "Python 2",
   "language": "python",
   "name": "python2"
  },
  "language_info": {
   "codemirror_mode": {
    "name": "ipython",
    "version": 2
   },
   "file_extension": ".py",
   "mimetype": "text/x-python",
   "name": "python",
   "nbconvert_exporter": "python",
   "pygments_lexer": "ipython2",
   "version": "2.7.10"
  }
 },
 "nbformat": 4,
 "nbformat_minor": 2
}
