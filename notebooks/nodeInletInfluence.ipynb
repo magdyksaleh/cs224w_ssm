{
 "cells": [
  {
   "cell_type": "markdown",
   "metadata": {},
   "source": [
    "# Inlet Analysis\n",
    "Looking at how many inlets influence each node"
   ]
  },
  {
   "cell_type": "code",
   "execution_count": 1,
   "metadata": {},
   "outputs": [],
   "source": [
    "import sys\n",
    "sys.path.append('../')\n",
    "from src.util import *\n",
    "import numpy as np \n",
    "import snap\n",
    "from tqdm import tqdm\n",
    "import collections\n",
    "import matplotlib.pyplot as plt"
   ]
  },
  {
   "cell_type": "markdown",
   "metadata": {},
   "source": [
    "### Load in the networks\n",
    "Sanity check number of nodes and edges"
   ]
  },
  {
   "cell_type": "code",
   "execution_count": 2,
   "metadata": {},
   "outputs": [
    {
     "name": "stdout",
     "output_type": "stream",
     "text": [
      "Healthy Network - Number of nodes: 388, Number of Edges 545\n",
      "LS174T Tumour - Number of nodes: 18093, Number of Edges 29030\n",
      "SW1222 Tumour - Number of nodes: 72084, Number of Edges 124158\n"
     ]
    }
   ],
   "source": [
    "G_LS174t = snap.LoadEdgeList(snap.PNEANet, \"../data/Edgelist/LS174T_clean_EdgesList.txt\", 0, 1)\n",
    "G_SW1222 = snap.LoadEdgeList(snap.PNEANet, \"../data/Edgelist/SW1222_clean_EdgesList.txt\", 0, 1)\n",
    "G_Healthy = snap.LoadEdgeList(snap.PNEANet, \"../data/Edgelist/Mesentery_clean_EdgeList.txt\", 0, 1)\n",
    "\n",
    "print \"Healthy Network - Number of nodes: {}, Number of Edges {}\".format(G_Healthy.GetNodes(), G_Healthy.GetEdges())\n",
    "print \"LS174T Tumour - Number of nodes: {}, Number of Edges {}\".format(G_LS174t.GetNodes(), G_LS174t.GetEdges())\n",
    "print \"SW1222 Tumour - Number of nodes: {}, Number of Edges {}\".format(G_SW1222.GetNodes(), G_SW1222.GetEdges())"
   ]
  },
  {
   "cell_type": "code",
   "execution_count": 3,
   "metadata": {},
   "outputs": [],
   "source": [
    "def generateInletCounts(G):\n",
    "    inlets = getInletIds(G)\n",
    "    nodeIds = [node.GetId() for node in G.Nodes()]\n",
    "    inletCounts = collections.defaultdict(int)\n",
    "    for inlet in tqdm(inlets):\n",
    "        outSet = snap.GetBfsTree(G, inlet, True, False)\n",
    "        for node in outSet.Nodes():\n",
    "            inletCounts[node.GetId()] += 1\n",
    "    return inletCounts"
   ]
  },
  {
   "cell_type": "code",
   "execution_count": 4,
   "metadata": {},
   "outputs": [
    {
     "name": "stderr",
     "output_type": "stream",
     "text": [
      "100%|██████████| 1795/1795 [00:01<00:00, 935.35it/s]\n"
     ]
    }
   ],
   "source": [
    "inletCounts = generateInletCounts(G_LS174t)\n",
    "sortedCounts_LS = sorted(inletCounts.values())\n",
    "xvals_LS = range(len(sortedCounts_LS))"
   ]
  },
  {
   "cell_type": "code",
   "execution_count": 5,
   "metadata": {},
   "outputs": [
    {
     "name": "stderr",
     "output_type": "stream",
     "text": [
      "100%|██████████| 8170/8170 [00:50<00:00, 160.76it/s]\n"
     ]
    }
   ],
   "source": [
    "inletCounts = generateInletCounts(G_SW1222)\n",
    "sortedCounts_SW = sorted(inletCounts.values())\n",
    "xvals_SW = range(len(sortedCounts_SW))"
   ]
  },
  {
   "cell_type": "code",
   "execution_count": 6,
   "metadata": {},
   "outputs": [
    {
     "data": {
      "text/plain": [
       "<matplotlib.legend.Legend at 0x111295b10>"
      ]
     },
     "execution_count": 6,
     "metadata": {},
     "output_type": "execute_result"
    },
    {
     "data": {
      "image/png": "[encoded data removed]",
      "text/plain": [
       "<Figure size 432x288 with 1 Axes>"
      ]
     },
     "metadata": {
      "needs_background": "light"
     },
     "output_type": "display_data"
    }
   ],
   "source": [
    "plt.scatter(xvals_LS, sortedCounts_LS, s=1, label='LS174T')\n",
    "plt.scatter(xvals_SW, sortedCounts_SW, s=1, label='SW1222')\n",
    "plt.xlabel('Node')\n",
    "plt.ylabel('# of Influence Inlets')\n",
    "plt.legend()"
   ]
  },
  {
   "cell_type": "markdown",
   "metadata": {},
   "source": [
    "### Plot cumulative distribution that is normalised"
   ]
  },
  {
   "cell_type": "code",
   "execution_count": 13,
   "metadata": {},
   "outputs": [
    {
     "data": {
      "text/plain": [
       "<matplotlib.collections.PathCollection at 0x11157d210>"
      ]
     },
     "execution_count": 13,
     "metadata": {},
     "output_type": "execute_result"
    },
    {
     "data": {
      "image/png": "[encoded data removed]",
      "text/plain": [
       "<Figure size 432x288 with 1 Axes>"
      ]
     },
     "metadata": {
      "needs_background": "light"
     },
     "output_type": "display_data"
    }
   ],
   "source": [
    "\n",
    "\n",
    "\n"
   ]
  },
  {
   "cell_type": "code",
   "execution_count": null,
   "metadata": {},
   "outputs": [],
   "source": [
    "plt.scatter(collections.Counter(sortedCounts_LS).keys(), collections.Counter(sortedCounts_LS).values())\n",
    "plt.scatter(collections.Counter(sortedCounts_SW).keys(), collections.Counter(sortedCounts_SW).values())"
   ]
  }
 ],
 "metadata": {
  "kernelspec": {
   "display_name": "Python 2",
   "language": "python",
   "name": "python2"
  },
  "language_info": {
   "codemirror_mode": {
    "name": "ipython",
    "version": 2
   },
   "file_extension": ".py",
   "mimetype": "text/x-python",
   "name": "python",
   "nbconvert_exporter": "python",
   "pygments_lexer": "ipython2",
   "version": "2.7.10"
  }
 },
 "nbformat": 4,
 "nbformat_minor": 2
}
