{
 "cells": [
  {
   "cell_type": "markdown",
   "metadata": {},
   "source": [
    "# Inlet Analysis\n",
    "Looking at how many inlets influence each node"
   ]
  },
  {
   "cell_type": "code",
   "execution_count": 6,
   "metadata": {},
   "outputs": [],
   "source": [
    "import sys\n",
    "sys.path.append('../')\n",
    "from src.util import *\n",
    "import numpy as np \n",
    "import snap\n",
    "from tqdm import tqdm\n",
    "import collections\n",
    "import matplotlib.pyplot as plt"
   ]
  },
  {
   "cell_type": "markdown",
   "metadata": {},
   "source": [
    "### Load in the networks\n",
    "Sanity check number of nodes and edges"
   ]
  },
  {
   "cell_type": "code",
   "execution_count": 10,
   "metadata": {},
   "outputs": [
    {
     "name": "stdout",
     "output_type": "stream",
     "text": [
      "Healthy Network - Number of nodes: 388, Number of Edges 539\n",
      "LS174T Tumour - Number of nodes: 16354, Number of Edges 20377\n",
      "SW1222 Tumour - Number of nodes: 64239, Number of Edges 77450\n"
     ]
    }
   ],
   "source": [
    "G_LS174t = snap.LoadEdgeList(snap.PNGraph, \"../data/Edgelist_v2/LS174T_clean_EdgesList.txt\", 0, 1)\n",
    "G_SW1222 = snap.LoadEdgeList(snap.PNGraph, \"../data/Edgelist_v2/SW1222_clean_EdgesList.txt\", 0, 1)\n",
    "G_Healthy = snap.LoadEdgeList(snap.PNGraph, \"../data/Edgelist_v2/Mesentery_clean_EdgeList.txt\", 0, 1)\n",
    "\n",
    "print \"Healthy Network - Number of nodes: {}, Number of Edges {}\".format(G_Healthy.GetNodes(), G_Healthy.GetEdges())\n",
    "print \"LS174T Tumour - Number of nodes: {}, Number of Edges {}\".format(G_LS174t.GetNodes(), G_LS174t.GetEdges())\n",
    "print \"SW1222 Tumour - Number of nodes: {}, Number of Edges {}\".format(G_SW1222.GetNodes(), G_SW1222.GetEdges())"
   ]
  },
  {
   "cell_type": "code",
   "execution_count": 4,
   "metadata": {},
   "outputs": [],
   "source": [
    "def generateInletCounts(G):\n",
    "    inlets = getInletIds(G)\n",
    "    nodeIds = [node.GetId() for node in G.Nodes()]\n",
    "    inletCounts = collections.defaultdict(int)\n",
    "    for inlet in tqdm(inlets):\n",
    "        outSet = snap.GetBfsTree(G, inlet, True, False)\n",
    "        for node in outSet.Nodes():\n",
    "            inletCounts[node.GetId()] += 1\n",
    "    return inletCounts"
   ]
  },
  {
   "cell_type": "code",
   "execution_count": 5,
   "metadata": {},
   "outputs": [
    {
     "name": "stderr",
     "output_type": "stream",
     "text": [
      "100%|██████████| 1795/1795 [00:01<00:00, 936.45it/s]\n"
     ]
    }
   ],
   "source": [
    "inletCounts = generateInletCounts(G_LS174t)\n",
    "sortedCounts_LS = sorted(inletCounts.values())\n",
    "xvals_LS = range(len(sortedCounts_LS))"
   ]
  },
  {
   "cell_type": "code",
   "execution_count": 6,
   "metadata": {},
   "outputs": [
    {
     "name": "stderr",
     "output_type": "stream",
     "text": [
      "100%|██████████| 8170/8170 [00:42<00:00, 190.71it/s]\n"
     ]
    }
   ],
   "source": [
    "inletCounts = generateInletCounts(G_SW1222)\n",
    "sortedCounts_SW = sorted(inletCounts.values())\n",
    "xvals_SW = range(len(sortedCounts_SW))"
   ]
  },
  {
   "cell_type": "code",
   "execution_count": 42,
   "metadata": {},
   "outputs": [
    {
     "data": {
      "text/plain": [
       "<matplotlib.legend.Legend at 0x1169d8510>"
      ]
     },
     "execution_count": 42,
     "metadata": {},
     "output_type": "execute_result"
    },
    {
     "data": {
      "image/png": "[encoded data removed]",
      "text/plain": [
       "<Figure size 432x288 with 1 Axes>"
      ]
     },
     "metadata": {
      "needs_background": "light"
     },
     "output_type": "display_data"
    }
   ],
   "source": [
    "plt.scatter(xvals_LS, sortedCounts_LS, s=1, label='LS174T')\n",
    "plt.scatter(xvals_SW, sortedCounts_SW, s=1, label='SW1222')\n",
    "plt.xlabel('Node')\n",
    "plt.ylabel('# of Influence Inlets')\n",
    "plt.legend()"
   ]
  },
  {
   "cell_type": "markdown",
   "metadata": {},
   "source": [
    "### Plot cumulative distribution that is normalised"
   ]
  },
  {
   "cell_type": "code",
   "execution_count": 44,
   "metadata": {},
   "outputs": [
    {
     "name": "stdout",
     "output_type": "stream",
     "text": [
      "5.52699939203e-05 0.0192892278782\n",
      "0.000557103064067 2.4061281337\n"
     ]
    }
   ],
   "source": [
    "inlets_LS = getInletIds(G_LS174t)\n",
    "x = collections.Counter(sortedCounts_LS)\n",
    "x_normalised_LS = [float(y)/G_LS174t.GetNodes() for y in x.keys()]\n",
    "y_normalised_LS = [float(y)/len(inlets_LS) for y in x.values()]\n",
    "\n",
    "print min(x_normalised_LS), max(x_normalised_LS)\n",
    "print min(y_normalised_LS), max(y_normalised_LS)"
   ]
  },
  {
   "cell_type": "code",
   "execution_count": 29,
   "metadata": {},
   "outputs": [
    {
     "name": "stdout",
     "output_type": "stream",
     "text": [
      "1.38727040675e-05 0.027135009156\n",
      "0.000122399020808 2.16634026928\n"
     ]
    }
   ],
   "source": [
    "inlets_SW = getInletIds(G_SW1222)\n",
    "x = collections.Counter(sortedCounts_SW)\n",
    "x_normalised_SW = [float(y)/G_SW1222.GetNodes() for y in x.keys()]\n",
    "y_normalised_SW = [float(y)/len(inlets_SW) for y in x.values()]\n",
    "\n",
    "print min(x_normalised_SW), max(x_normalised_SW)\n",
    "print min(y_normalised_SW), max(y_normalised_SW)"
   ]
  },
  {
   "cell_type": "code",
   "execution_count": 37,
   "metadata": {},
   "outputs": [
    {
     "data": {
      "text/plain": [
       "<matplotlib.legend.Legend at 0x11928be50>"
      ]
     },
     "execution_count": 37,
     "metadata": {},
     "output_type": "execute_result"
    },
    {
     "data": {
      "image/png": "[encoded data removed]",
      "text/plain": [
       "<Figure size 432x288 with 1 Axes>"
      ]
     },
     "metadata": {
      "needs_background": "light"
     },
     "output_type": "display_data"
    }
   ],
   "source": [
    "plt.plot(x_normalised_LS, y_normalised_LS,'o',label=\"LS174T\")\n",
    "plt.plot(x_normalised_SW, y_normalised_SW,'o', label=\"SW1222\")\n",
    "plt.xscale('log')\n",
    "plt.yscale('log')\n",
    "plt.legend()"
   ]
  },
  {
   "cell_type": "markdown",
   "metadata": {},
   "source": [
    "## Connectivity"
   ]
  },
  {
   "cell_type": "code",
   "execution_count": 13,
   "metadata": {},
   "outputs": [],
   "source": [
    "def getNodeConnectivityFrac(G, nodeId):\n",
    "    total = snap.GetBfsTree(G, nodeId, True, False).GetNodes() +\\\n",
    "                snap.GetBfsTree(G, nodeId, False, True).GetNodes()\n",
    "    return float(total)/G.GetNodes()\n",
    "\n",
    "def getConnectivityList(G):\n",
    "    return [getNodeConnectivityFrac(G, i.GetId()) for i in G.Nodes()]"
   ]
  },
  {
   "cell_type": "code",
   "execution_count": 14,
   "metadata": {},
   "outputs": [],
   "source": [
    "LS_connectivity = getConnectivityList(G_LS174t)\n",
    "SW_connectivity = getConnectivityList(G_SW1222)"
   ]
  },
  {
   "cell_type": "code",
   "execution_count": 15,
   "metadata": {},
   "outputs": [],
   "source": [
    "LS_conn_log = [np.log(x) for x in LS_connectivity]\n",
    "SW_conn_log = [np.log(x) for x in SW_connectivity]"
   ]
  },
  {
   "cell_type": "code",
   "execution_count": 16,
   "metadata": {},
   "outputs": [
    {
     "data": {
      "text/plain": [
       "(-9.971753493206217, -8.603615506053814)"
      ]
     },
     "execution_count": 16,
     "metadata": {},
     "output_type": "execute_result"
    }
   ],
   "source": [
    "min(SW_conn_log), min(LS_conn_log)"
   ]
  },
  {
   "cell_type": "code",
   "execution_count": 22,
   "metadata": {},
   "outputs": [
    {
     "data": {
      "image/png": "[encoded data removed]",
      "text/plain": [
       "<Figure size 666x378 with 1 Axes>"
      ]
     },
     "metadata": {
      "needs_background": "light"
     },
     "output_type": "display_data"
    }
   ],
   "source": [
    "plt.hist([LS_conn_log, SW_conn_log], bins=30, normed=True, label=['LS','SW'])\n",
    "plt.xlabel('Log connectivity')\n",
    "plt.ylabel('Normalised Frequency')\n",
    "plt.legend()\n",
    "plt.gcf().set_size_inches(9.25, 5.25)\n",
    "plt.savefig('../figs/connectivity.pdf')"
   ]
  },
  {
   "cell_type": "code",
   "execution_count": null,
   "metadata": {},
   "outputs": [],
   "source": []
  }
 ],
 "metadata": {
  "kernelspec": {
   "display_name": "Python 2",
   "language": "python",
   "name": "python2"
  },
  "language_info": {
   "codemirror_mode": {
    "name": "ipython",
    "version": 2
   },
   "file_extension": ".py",
   "mimetype": "text/x-python",
   "name": "python",
   "nbconvert_exporter": "python",
   "pygments_lexer": "ipython2",
   "version": "2.7.10"
  }
 },
 "nbformat": 4,
 "nbformat_minor": 2
}
