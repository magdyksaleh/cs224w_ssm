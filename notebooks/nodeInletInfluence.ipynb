{
 "cells": [
  {
   "cell_type": "markdown",
   "metadata": {},
   "source": [
    "# Inlet Analysis\n",
    "Looking at how many inlets influence each node"
   ]
  },
  {
   "cell_type": "code",
   "execution_count": 1,
   "metadata": {},
   "outputs": [],
   "source": [
    "import sys\n",
    "sys.path.append('../')\n",
    "from src.util import *\n",
    "import numpy as np \n",
    "import snap\n",
    "from tqdm import tqdm\n",
    "import collections\n",
    "import matplotlib.pyplot as plt"
   ]
  },
  {
   "cell_type": "markdown",
   "metadata": {},
   "source": [
    "### Load in the networks\n",
    "Sanity check number of nodes and edges"
   ]
  },
  {
   "cell_type": "code",
   "execution_count": 10,
   "metadata": {},
   "outputs": [
    {
     "name": "stdout",
     "output_type": "stream",
     "text": [
      "Healthy Network - Number of nodes: 388, Number of Edges 545\n",
      "LS174T Tumour - Number of nodes: 16354, Number of Edges 20377\n",
      "SW1222 Tumour - Number of nodes: 64239, Number of Edges 77450\n"
     ]
    }
   ],
   "source": [
    "G_LS174t = snap.LoadEdgeList(snap.PNGraph, \"../data/Edgelist_v2/LS174T_clean_EdgesList.txt\", 0, 1)\n",
    "G_SW1222 = snap.LoadEdgeList(snap.PNGraph, \"../data/Edgelist_v2/SW1222_clean_EdgesList.txt\", 0, 1)\n",
    "G_Healthy = snap.LoadEdgeList(snap.PNGraph, \"../data/Edgelist_v2/Mesentery_clean_EdgeList.txt\", 0, 1)\n",
    "\n",
    "print \"Healthy Network - Number of nodes: {}, Number of Edges {}\".format(G_Healthy.GetNodes(), G_Healthy.GetEdges())\n",
    "print \"LS174T Tumour - Number of nodes: {}, Number of Edges {}\".format(G_LS174t.GetNodes(), G_LS174t.GetEdges())\n",
    "print \"SW1222 Tumour - Number of nodes: {}, Number of Edges {}\".format(G_SW1222.GetNodes(), G_SW1222.GetEdges())"
   ]
  },
  {
   "cell_type": "code",
   "execution_count": 31,
   "metadata": {},
   "outputs": [],
   "source": [
    "def generateInletCounts(G):\n",
    "    inlets = getInletIds(G)\n",
    "    inletDict = collections.defaultdict(list)\n",
    "    nodeIds = [node.GetId() for node in G.Nodes()]\n",
    "    inletCounts = collections.defaultdict(int)\n",
    "    for inlet in tqdm(inlets):\n",
    "        outSet = snap.GetBfsTree(G, inlet, True, False)\n",
    "        for node in outSet.Nodes():\n",
    "            inletCounts[node.GetId()] += 1\n",
    "            inletDict[node.GetId()].append(inlet)\n",
    "    return (inletCounts, inletDict)"
   ]
  },
  {
   "cell_type": "code",
   "execution_count": 32,
   "metadata": {},
   "outputs": [
    {
     "name": "stderr",
     "output_type": "stream",
     "text": [
      "100%|██████████| 1751/1751 [00:01<00:00, 1535.83it/s]\n"
     ]
    }
   ],
   "source": [
    "inletCounts, _ = generateInletCounts(G_LS174t)\n",
    "sortedCounts_LS = sorted(inletCounts.values())\n",
    "xvals_LS = range(len(sortedCounts_LS))"
   ]
  },
  {
   "cell_type": "code",
   "execution_count": 5,
   "metadata": {},
   "outputs": [
    {
     "name": "stderr",
     "output_type": "stream",
     "text": [
      "100%|██████████| 10209/10209 [00:05<00:00, 1939.12it/s]\n"
     ]
    }
   ],
   "source": [
    "inletCounts, _ = generateInletCounts(G_SW1222)\n",
    "sortedCounts_SW = sorted(inletCounts.values())\n",
    "xvals_SW = range(len(sortedCounts_SW))"
   ]
  },
  {
   "cell_type": "code",
   "execution_count": 91,
   "metadata": {},
   "outputs": [
    {
     "name": "stdout",
     "output_type": "stream",
     "text": [
      "Avg Inlet Counts LS174t:  9.85141249847\n",
      "Avg Inlet Counts SW1222:  9.52314014851\n"
     ]
    }
   ],
   "source": [
    "print \"Avg Inlet Counts LS174t: \", float(sum(sortedCounts_LS))/len(sortedCounts_LS)\n",
    "print \"Avg Inlet Counts SW1222: \", float(sum(sortedCounts_SW))/len(sortedCounts_SW)"
   ]
  },
  {
   "cell_type": "code",
   "execution_count": 33,
   "metadata": {},
   "outputs": [
    {
     "data": {
      "text/plain": [
       "<matplotlib.legend.Legend at 0x1082aaad0>"
      ]
     },
     "execution_count": 33,
     "metadata": {},
     "output_type": "execute_result"
    },
    {
     "data": {
      "image/png": "[encoded data removed]",
      "text/plain": [
       "<Figure size 432x288 with 1 Axes>"
      ]
     },
     "metadata": {
      "needs_background": "light"
     },
     "output_type": "display_data"
    }
   ],
   "source": [
    "plt.scatter(xvals_LS, sortedCounts_LS, s=1, label='LS174T')\n",
    "plt.scatter(xvals_SW, sortedCounts_SW, s=1, label='SW1222')\n",
    "plt.xlabel('Node')\n",
    "plt.ylabel('# of Influence Inlets')\n",
    "plt.legend()"
   ]
  },
  {
   "cell_type": "markdown",
   "metadata": {},
   "source": [
    "### Plot cumulative distribution that is normalised"
   ]
  },
  {
   "cell_type": "code",
   "execution_count": 73,
   "metadata": {},
   "outputs": [
    {
     "name": "stdout",
     "output_type": "stream",
     "text": [
      "0.000571102227299 0.125071387778\n",
      "6.11471199706e-05 0.344747462395\n"
     ]
    }
   ],
   "source": [
    "inlets_LS = getInletIds(G_LS174t)\n",
    "x = collections.Counter(sortedCounts_LS)\n",
    "x_normalised_LS = [float(y)/len(inlets_LS) for y in x.keys()]\n",
    "y_normalised_LS = [float(y)/G_LS174t.GetNodes() for y in x.values()]\n",
    "\n",
    "print min(x_normalised_LS), max(x_normalised_LS)\n",
    "print min(y_normalised_LS), max(y_normalised_LS)"
   ]
  },
  {
   "cell_type": "code",
   "execution_count": 74,
   "metadata": {},
   "outputs": [
    {
     "name": "stdout",
     "output_type": "stream",
     "text": [
      "9.79527867568e-05 0.0339896170046\n",
      "1.55668674793e-05 0.422873955074\n"
     ]
    }
   ],
   "source": [
    "inlets_SW = getInletIds(G_SW1222)\n",
    "x = collections.Counter(sortedCounts_SW)\n",
    "x_normalised_SW = [float(y)/len(inlets_SW) for y in x.keys()]\n",
    "y_normalised_SW = [float(y)/G_SW1222.GetNodes() for y in x.values()]\n",
    "\n",
    "print min(x_normalised_SW), max(x_normalised_SW)\n",
    "print min(y_normalised_SW), max(y_normalised_SW)"
   ]
  },
  {
   "cell_type": "code",
   "execution_count": 78,
   "metadata": {},
   "outputs": [
    {
     "data": {
      "text/plain": [
       "<matplotlib.legend.Legend at 0x10e853a90>"
      ]
     },
     "execution_count": 78,
     "metadata": {},
     "output_type": "execute_result"
    },
    {
     "data": {
      "image/png": "[encoded data removed]",
      "text/plain": [
       "<Figure size 432x288 with 1 Axes>"
      ]
     },
     "metadata": {
      "needs_background": "light"
     },
     "output_type": "display_data"
    }
   ],
   "source": [
    "plt.plot(x_normalised_LS, y_normalised_LS,'o',label=\"LS174T\")\n",
    "plt.plot(x_normalised_SW, y_normalised_SW,'o', label=\"SW1222\")\n",
    "plt.xscale('log')\n",
    "# plt.yscale('log')\n",
    "plt.xlabel(\"Log fraction of nodes\")\n",
    "plt.ylabel(\"Fraction of influence nodes\")\n",
    "plt.legend()"
   ]
  },
  {
   "cell_type": "markdown",
   "metadata": {},
   "source": [
    "## Node removal analysis"
   ]
  },
  {
   "cell_type": "code",
   "execution_count": 29,
   "metadata": {},
   "outputs": [],
   "source": [
    "def rankInlets(G):\n",
    "    inlets = getInletIds(G)\n",
    "    outList = []\n",
    "    for inlet in inlets:\n",
    "        outList.append((inlet, snap.GetBfsTree(G, inlet, True, False).GetNodes()))\n",
    "    return sorted(outList, key=lambda args: args[1], reverse=True)"
   ]
  },
  {
   "cell_type": "code",
   "execution_count": 46,
   "metadata": {},
   "outputs": [],
   "source": [
    "def decrementInletCount(G, inlet, inletCountOg):\n",
    "    inletCounts = copy.deepcopy(inletCountOg)\n",
    "    nodeIds = [node.GetId() for node in G.Nodes()]\n",
    "    outSet = snap.GetBfsTree(G, inlet, True, False)\n",
    "    for node in outSet.Nodes():\n",
    "        inletCounts[node.GetId()] -= 1\n",
    "    countZero = sum([1 if val == 0 else 0 for val in inletCounts.values()])\n",
    "    return countZero, inletCounts"
   ]
  },
  {
   "cell_type": "code",
   "execution_count": 49,
   "metadata": {},
   "outputs": [],
   "source": [
    "def inletKillAttack(G):\n",
    "    inletRanks = rankInlets(G)\n",
    "    inletCounts, inletDict = generateInletCounts(G)\n",
    "    nodesKilled = []\n",
    "    for x in tqdm(inletRanks): #run in order of highest outset\n",
    "        curInlet = x[0]\n",
    "        numNodesRemoved, newCounts = decrementInletCount(G, curInlet, inletCounts)\n",
    "        nodesKilled.append(numNodesRemoved)\n",
    "    return nodesKilled"
   ]
  },
  {
   "cell_type": "code",
   "execution_count": 61,
   "metadata": {},
   "outputs": [
    {
     "name": "stderr",
     "output_type": "stream",
     "text": [
      "100%|██████████| 1751/1751 [00:01<00:00, 1323.15it/s]\n",
      "100%|██████████| 1751/1751 [01:52<00:00, 16.26it/s]\n"
     ]
    }
   ],
   "source": [
    "nodeCounts = inletKillAttack(G_LS174t)\n",
    "totalNodes = [G_LS174t.GetNodes()]\n",
    "nodesRemaining_LS = []\n",
    "for count in nodeCounts:\n",
    "    totalNodes[0] -= count\n",
    "    nodesRemaining_LS.append(totalNodes[0])"
   ]
  },
  {
   "cell_type": "code",
   "execution_count": 59,
   "metadata": {},
   "outputs": [
    {
     "name": "stderr",
     "output_type": "stream",
     "text": [
      "100%|██████████| 10209/10209 [00:05<00:00, 1925.80it/s]\n",
      "100%|██████████| 10209/10209 [42:16<00:00,  4.45it/s]\n"
     ]
    }
   ],
   "source": [
    "nodeCounts = inletKillAttack(G_SW1222)\n",
    "totalNodes = [G_SW1222.GetNodes()]\n",
    "nodesRemaining_SW = []\n",
    "for count in nodeCounts:\n",
    "    totalNodes[0] -= count\n",
    "    nodesRemaining_SW.append(totalNodes[0])"
   ]
  },
  {
   "cell_type": "code",
   "execution_count": 65,
   "metadata": {},
   "outputs": [],
   "source": [
    "x_coords_LS = [float(x)/len(normalisedNodesRemaining_LS) \n",
    "               for x in range(len(normalisedNodesRemaining_LS))]\n",
    "normalisedNodesRemaining_LS = [float(x)/G_LS174t.GetNodes() \n",
    "                               for x in nodesRemaining_LS]\n",
    "\n",
    "x_coords_SW = [float(x)/len(normalisedNodesRemaining_SW) \n",
    "               for x in range(len(normalisedNodesRemaining_SW))]\n",
    "normalisedNodesRemaining_SW = [float(x)/G_SW1222.GetNodes() \n",
    "                               for x in nodesRemaining_SW]"
   ]
  },
  {
   "cell_type": "code",
   "execution_count": 68,
   "metadata": {},
   "outputs": [
    {
     "data": {
      "image/png": "[encoded data removed]",
      "text/plain": [
       "<Figure size 432x288 with 1 Axes>"
      ]
     },
     "metadata": {
      "needs_background": "light"
     },
     "output_type": "display_data"
    }
   ],
   "source": [
    "plt.figure()\n",
    "plt.plot(x_coords_LS, normalisedNodesRemaining_LS, label=\"LS174t\")\n",
    "plt.plot(x_coords_SW, normalisedNodesRemaining_SW, label=\"SW1222\")\n",
    "plt.xlabel(\"Fraction of inlets removed\")\n",
    "plt.ylabel(\"Franction of nodes reachable\")\n",
    "plt.title(\"Impact of inlet removal\")\n",
    "plt.grid()\n",
    "plt.legend()\n",
    "plt.savefig(\"../figs/nodeRemoval.pdf\")"
   ]
  },
  {
   "cell_type": "markdown",
   "metadata": {},
   "source": [
    "## Connectivity"
   ]
  },
  {
   "cell_type": "code",
   "execution_count": 92,
   "metadata": {},
   "outputs": [],
   "source": [
    "def getNodeConnectivityFrac(G, nodeId):\n",
    "    total = snap.GetBfsTree(G, nodeId, True, False).GetNodes() +\\\n",
    "                snap.GetBfsTree(G, nodeId, False, True).GetNodes()\n",
    "    return float(total)/G.GetNodes()\n",
    "\n",
    "def getConnectivityList(G):\n",
    "    return [getNodeConnectivityFrac(G, node.GetId()) for node in tqdm(G.Nodes())]"
   ]
  },
  {
   "cell_type": "code",
   "execution_count": 93,
   "metadata": {},
   "outputs": [
    {
     "name": "stderr",
     "output_type": "stream",
     "text": [
      "16354it [00:07, 2218.90it/s]\n",
      "64239it [00:51, 1246.25it/s]\n"
     ]
    }
   ],
   "source": [
    "LS_connectivity = getConnectivityList(G_LS174t)\n",
    "SW_connectivity = getConnectivityList(G_SW1222)"
   ]
  },
  {
   "cell_type": "code",
   "execution_count": 94,
   "metadata": {},
   "outputs": [],
   "source": [
    "LS_conn_log = [np.log(x) for x in LS_connectivity]\n",
    "SW_conn_log = [np.log(x) for x in SW_connectivity]"
   ]
  },
  {
   "cell_type": "code",
   "execution_count": 95,
   "metadata": {},
   "outputs": [
    {
     "data": {
      "text/plain": [
       "(-9.9717534932062168, -8.6036155060538135)"
      ]
     },
     "execution_count": 95,
     "metadata": {},
     "output_type": "execute_result"
    }
   ],
   "source": [
    "min(SW_conn_log), min(LS_conn_log)"
   ]
  },
  {
   "cell_type": "code",
   "execution_count": 96,
   "metadata": {},
   "outputs": [
    {
     "name": "stderr",
     "output_type": "stream",
     "text": [
      "/Users/magdy/Desktop/Stanford/Fall18/224w/nodeEnv/lib/python2.7/site-packages/matplotlib/axes/_axes.py:6571: UserWarning: The 'normed' kwarg is deprecated, and has been replaced by the 'density' kwarg.\n",
      "  warnings.warn(\"The 'normed' kwarg is deprecated, and has been \"\n"
     ]
    },
    {
     "data": {
      "image/png": "[encoded data removed]",
      "text/plain": [
       "<matplotlib.legend.Legend at 0x10de45c90>"
      ]
     },
     "execution_count": 96,
     "metadata": {},
     "output_type": "execute_result"
    },
    {
     "data": {
      "image/png": "[encoded data removed]",
      "text/plain": [
       "<Figure size 432x288 with 1 Axes>"
      ]
     },
     "metadata": {
      "needs_background": "light"
     },
     "output_type": "display_data"
    }
   ],
   "source": [
    "plt.hist([LS_conn_log, SW_conn_log], bins=30, normed=True, label=['LS','SW'])\n",
    "plt.xlabel('Log connectivity')\n",
    "plt.ylabel('Normalised Frequency')\n",
    "plt.legend()\n",
    "plt.gcf().set_size_inches(9.25, 5.25)\n",
    "plt.savefig('../figs/connectivity.pdf')"
   ]
  }
 ],
 "metadata": {
  "kernelspec": {
   "display_name": "Python 2",
   "language": "python",
   "name": "python2"
  },
  "language_info": {
   "codemirror_mode": {
    "name": "ipython",
    "version": 2
   },
   "file_extension": ".py",
   "mimetype": "text/x-python",
   "name": "python",
   "nbconvert_exporter": "python",
   "pygments_lexer": "ipython2",
   "version": "2.7.10"
  }
 },
 "nbformat": 4,
 "nbformat_minor": 2
}
