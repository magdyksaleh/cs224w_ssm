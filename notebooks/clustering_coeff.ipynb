{
 "cells": [
  {
   "cell_type": "code",
   "execution_count": 7,
   "metadata": {},
   "outputs": [],
   "source": [
    "import snap\n",
    "import sys\n",
    "sys.path.append('../src/data_cleaning/snair')\n",
    "from clean_am import *\n",
    "import matplotlib.pyplot as plt"
   ]
  },
  {
   "cell_type": "code",
   "execution_count": 8,
   "metadata": {},
   "outputs": [],
   "source": [
    "G_Mes = snap.LoadEdgeList(snap.PNGraph, \"../data/Edgelist_v2/Mesentery_clean_EdgeList.txt\", 0, 1, ' ')\n",
    "G_LS174T = snap.LoadEdgeList(snap.PNGraph, \"../data/Edgelist_v2/LS174T_clean_EdgesList.txt\", 0, 1, '\\t')\n",
    "G_SW1222 = snap.LoadEdgeList(snap.PNGraph, \"../data/Edgelist_v2/SW1222_clean_EdgesList.txt\", 0, 1, '\\t')"
   ]
  },
  {
   "cell_type": "code",
   "execution_count": 9,
   "metadata": {},
   "outputs": [],
   "source": [
    "LS = read_am('../data/og_files/LS174T_spatialGraph_RIN.txt')\n",
    "LS_edge_prop = edgeProps(LS)\n",
    "LS_clean = cleanEdgelist(LS, LS_edge_prop)"
   ]
  },
  {
   "cell_type": "code",
   "execution_count": 10,
   "metadata": {},
   "outputs": [],
   "source": [
    "SW = read_am('../data/og_files/SW122_spatialGraph_RIN.txt')\n",
    "SW_edge_prop = edgeProps(SW)\n",
    "SW_clean = cleanEdgelist(SW, SW_edge_prop)"
   ]
  },
  {
   "cell_type": "code",
   "execution_count": 14,
   "metadata": {},
   "outputs": [],
   "source": [
    "node_cc = {}\n",
    "NIdCCfH = snap.TIntFltH()\n",
    "snap.GetNodeClustCf(G_LS174T, NIdCCfH)\n",
    "for edge, attr in LS_clean.items():\n",
    "    if edge[0] not in node_cc:\n",
    "        node_cc[edge[0]] = (attr['srcRadius'], float(NIdCCfH[edge[0]]))\n",
    "    if edge[1] not in node_cc:\n",
    "        node_cc[edge[0]] = (attr['dstRadius'], float(NIdCCfH[edge[1]]))\n",
    "\n",
    "radius_LS, cc_LS = zip(*node_cc.values())"
   ]
  },
  {
   "cell_type": "code",
   "execution_count": null,
   "metadata": {},
   "outputs": [],
   "source": [
    "node_cc = {}\n",
    "NIdCCfH = snap.TIntFltH()\n",
    "snap.GetNodeClustCf(G_SW1222, NIdCCfH)\n",
    "for edge, attr in SW_clean.items():\n",
    "    if edge[0] not in node_cc:\n",
    "        node_cc[edge[0]] = (attr['srcRadius'], float(NIdCCfH[edge[0]]))\n",
    "    if edge[1] not in node_cc:\n",
    "        node_cc[edge[0]] = (attr['dstRadius'], float(NIdCCfH[edge[1]]))\n",
    "\n",
    "radius_SW, cc_SW = zip(*node_cc.values())"
   ]
  },
  {
   "cell_type": "code",
   "execution_count": 24,
   "metadata": {},
   "outputs": [
    {
     "data": {
      "image/png": "[encoded data removed]",
      "text/plain": [
       "<Figure size 432x288 with 1 Axes>"
      ]
     },
     "metadata": {
      "needs_background": "light"
     },
     "output_type": "display_data"
    }
   ],
   "source": [
    "plt.scatter(radius_LS, cc_LS, marker = '+', color = 'r')\n",
    "# plt.scatter(radius_SW, cc_SW, marker = '*', color = 'b')\n",
    "plt.xlabel('Radius')\n",
    "plt.ylabel('Clustering Coefficient')\n",
    "plt.grid()\n",
    "plt.legend()\n",
    "plt.show()"
   ]
  },
  {
   "cell_type": "code",
   "execution_count": null,
   "metadata": {},
   "outputs": [],
   "source": []
  }
 ],
 "metadata": {
  "kernelspec": {
   "display_name": "Python 2",
   "language": "python",
   "name": "python2"
  },
  "language_info": {
   "codemirror_mode": {
    "name": "ipython",
    "version": 2
   },
   "file_extension": ".py",
   "mimetype": "text/x-python",
   "name": "python",
   "nbconvert_exporter": "python",
   "pygments_lexer": "ipython2",
   "version": "2.7.10"
  }
 },
 "nbformat": 4,
 "nbformat_minor": 2
}
