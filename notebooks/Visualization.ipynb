{
 "cells": [
  {
   "cell_type": "code",
   "execution_count": 3,
   "metadata": {},
   "outputs": [
    {
     "data": {
      "text/plain": [
       "<module 'util_data' from '../src/util_data.pyc'>"
      ]
     },
     "execution_count": 3,
     "metadata": {},
     "output_type": "execute_result"
    }
   ],
   "source": [
    "import sys\n",
    "import snap\n",
    "import numpy as np\n",
    "import tqdm\n",
    "from random import sample, shuffle\n",
    "from matplotlib import pyplot as plt\n",
    "import networkx as nx\n",
    "sys.path.append('../src/')\n",
    "import util\n",
    "import util_data\n",
    "reload(util)\n",
    "reload(util_data)"
   ]
  },
  {
   "cell_type": "code",
   "execution_count": 2,
   "metadata": {},
   "outputs": [],
   "source": [
    "def load_graph(nm):\n",
    "    if nm =='LS':\n",
    "        return snap.LoadEdgeList(snap.PNGraph, \"../data/Edgelist_v2/LS174T_clean_EdgesList.txt\", 0, 1)\n",
    "    elif nm=='SW':\n",
    "        return snap.LoadEdgeList(snap.PNGraph, \"../data/Edgelist_v2/SW1222_clean_EdgesList.txt\", 0, 1)\n",
    "    else:\n",
    "        print('ERROR LOADING')\n",
    "G_LS174t = load_graph('LS')\n",
    "G_SW1222 = load_graph('SW')\n",
    "G_LS174t_nodes = G_LS174t.GetNodes()\n",
    "G_SW1222_nodes = G_SW1222.GetNodes()"
   ]
  },
  {
   "cell_type": "code",
   "execution_count": 38,
   "metadata": {},
   "outputs": [],
   "source": [
    "def get_nbrs(g, n, hops=2):\n",
    "    nbrs = set([n])\n",
    "    newnbrs = set([n])\n",
    "    toadd = set()\n",
    "    for _ in range(hops):\n",
    "        for nbr in newnbrs:\n",
    "            for e in g.edges(nbr):\n",
    "                if e[1] not in nbrs and e[1] not in toadd:\n",
    "                    toadd.add(e[1])\n",
    "            for e in g.in_edges(nbr):\n",
    "                if e[1] not in nbrs and e[1] not in toadd:\n",
    "                    toadd.add(e[1])\n",
    "        nbrs = nbrs.union(toadd)\n",
    "        newnbrs = toadd\n",
    "        toadd = set()\n",
    "    return nbrs"
   ]
  },
  {
   "cell_type": "code",
   "execution_count": 20,
   "metadata": {},
   "outputs": [],
   "source": [
    "nxLS = nx.read_edgelist(\"../data/Edgelist_v2/LS174T_clean_EdgesList.txt\", create_using=nx.DiGraph(), nodetype=int)"
   ]
  },
  {
   "cell_type": "code",
   "execution_count": 87,
   "metadata": {},
   "outputs": [
    {
     "name": "stdout",
     "output_type": "stream",
     "text": [
      "[16320, 16321, 16293, 16289, 16368, 16369, 16373, 16055, 16282, 16442, 16319]\n"
     ]
    },
    {
     "data": {
      "image/png": "[encoded data removed]",
      "text/plain": [
       "<Figure size 432x288 with 1 Axes>"
      ]
     },
     "metadata": {},
     "output_type": "display_data"
    }
   ],
   "source": [
    "sg = nxLS.subgraph(get_nbrs(nxLS, 16055, 5))\n",
    "print(sg.nodes)\n",
    "nx.draw(sg, node_size=100)"
   ]
  },
  {
   "cell_type": "code",
   "execution_count": null,
   "metadata": {},
   "outputs": [],
   "source": []
  }
 ],
 "metadata": {
  "kernelspec": {
   "display_name": "Python 2",
   "language": "python",
   "name": "python2"
  },
  "language_info": {
   "codemirror_mode": {
    "name": "ipython",
    "version": 2
   },
   "file_extension": ".py",
   "mimetype": "text/x-python",
   "name": "python",
   "nbconvert_exporter": "python",
   "pygments_lexer": "ipython2",
   "version": "2.7.10"
  }
 },
 "nbformat": 4,
 "nbformat_minor": 2
}
