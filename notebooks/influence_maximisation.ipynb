{
 "cells": [
  {
   "cell_type": "code",
   "execution_count": null,
   "metadata": {},
   "outputs": [],
   "source": [
    "import snap\n",
    "import sys\n",
    "import os\n",
    "import numpy as np\n",
    "from tqdm import tqdm\n",
    "import matplotlib.pyplot as plt\n",
    "sys.path.append('../')\n",
    "from src.util import influence_maximisation, get_influence_set, getInletIds"
   ]
  },
  {
   "cell_type": "code",
   "execution_count": null,
   "metadata": {},
   "outputs": [],
   "source": [
    "G_LS174T = snap.LoadEdgeList(snap.PNGraph, \"../data/Edgelist/LS174T_clean_EdgesList.txt\", 0, 1, '\\t')\n",
    "G_SW1222 = snap.LoadEdgeList(snap.PNGraph, \"../data/Edgelist/SW1222_clean_EdgesList.txt\", 0, 1, '\\t')"
   ]
  },
  {
   "cell_type": "code",
   "execution_count": null,
   "metadata": {},
   "outputs": [],
   "source": [
    "total_nodes_LS = G_LS174T.GetNodes()\n",
    "total_nodes_SW = G_SW1222.GetNodes()\n",
    "inlets_LS = getInletIds(G_LS174T)\n",
    "inlets_SW = getInletIds(G_SW1222)"
   ]
  },
  {
   "cell_type": "code",
   "execution_count": 4,
   "metadata": {},
   "outputs": [
    {
     "name": "stderr",
     "output_type": "stream",
     "text": [
      " 99%|█████████▊| 1770/1795 [07:30<00:00, 47.76it/s]"
     ]
    }
   ],
   "source": [
    "_, _, nodes_covered_LS = influence_maximisation(G_LS174T, inlets_LS, len(inlets_LS))\n",
    "nodes_covered_frac_LS = np.asarray(nodes_covered_LS)/total_nodes_LS"
   ]
  },
  {
   "cell_type": "code",
   "execution_count": null,
   "metadata": {},
   "outputs": [
    {
     "name": "stderr",
     "output_type": "stream",
     "text": [
      "\n",
      " 40%|████      | 3295/8170 [2:27:37<34:16:56, 25.32s/it]\u001b[A\n",
      " 40%|████      | 3296/8170 [2:28:02<34:14:40, 25.29s/it]\u001b[A\n",
      " 40%|████      | 3297/8170 [2:28:27<34:02:12, 25.15s/it]\u001b[A\n",
      " 40%|████      | 3298/8170 [2:28:52<33:53:04, 25.04s/it]\u001b[A\n",
      " 40%|████      | 3299/8170 [2:29:16<33:34:48, 24.82s/it]\u001b[A\n",
      " 40%|████      | 3300/8170 [2:29:40<33:11:49, 24.54s/it]\u001b[A\n",
      " 40%|████      | 3301/8170 [2:30:04<33:01:47, 24.42s/it]\u001b[A\n",
      " 40%|████      | 3302/8170 [2:30:28<32:55:06, 24.34s/it]\u001b[A\n",
      " 40%|████      | 3303/8170 [2:30:52<32:43:42, 24.21s/it]\u001b[A\n",
      " 40%|████      | 3304/8170 [2:31:16<32:36:49, 24.13s/it]\u001b[A\n",
      " 40%|████      | 3305/8170 [2:31:40<32:32:05, 24.08s/it]\u001b[A\n",
      " 40%|████      | 3306/8170 [2:32:04<32:36:56, 24.14s/it]\u001b[A\n",
      " 40%|████      | 3307/8170 [2:32:28<32:33:47, 24.11s/it]\u001b[A\n",
      " 40%|████      | 3308/8170 [2:32:52<32:22:04, 23.97s/it]\u001b[A\n",
      " 41%|████      | 3309/8170 [2:33:16<32:31:09, 24.08s/it]\u001b[A\n",
      " 41%|████      | 3310/8170 [2:33:40<32:27:38, 24.05s/it]\u001b[A\n",
      " 41%|████      | 3311/8170 [2:34:05<32:37:18, 24.17s/it]\u001b[A\n",
      " 41%|████      | 3312/8170 [2:34:28<32:21:02, 23.97s/it]\u001b[A\n",
      " 41%|████      | 3313/8170 [2:34:52<32:08:31, 23.82s/it]\u001b[A\n",
      " 41%|████      | 3314/8170 [2:35:16<32:12:20, 23.88s/it]\u001b[A\n",
      " 41%|████      | 3315/8170 [2:35:39<31:53:55, 23.65s/it]\u001b[A\n",
      " 41%|████      | 3316/8170 [2:36:02<31:46:52, 23.57s/it]\u001b[A\n",
      " 41%|████      | 3317/8170 [2:36:26<31:54:55, 23.68s/it]\u001b[A\n",
      " 41%|████      | 3318/8170 [2:36:51<32:16:13, 23.94s/it]\u001b[A\n",
      " 41%|████      | 3319/8170 [2:37:15<32:29:37, 24.11s/it]\u001b[A\n",
      " 41%|████      | 3320/8170 [2:37:39<32:24:13, 24.05s/it]\u001b[A\n",
      " 41%|████      | 3321/8170 [2:38:04<32:38:27, 24.23s/it]\u001b[A\n",
      " 41%|████      | 3322/8170 [2:38:28<32:35:04, 24.20s/it]\u001b[A\n",
      " 41%|████      | 3323/8170 [2:38:52<32:40:36, 24.27s/it]\u001b[A\n",
      " 41%|████      | 3324/8170 [2:39:17<32:58:15, 24.49s/it]\u001b[A\n",
      " 41%|████      | 3325/8170 [2:39:41<32:31:25, 24.17s/it]\u001b[A\n",
      " 41%|████      | 3326/8170 [2:40:06<32:54:37, 24.46s/it]\u001b[A\n",
      " 41%|████      | 3327/8170 [2:40:30<32:48:36, 24.39s/it]\u001b[A"
     ]
    }
   ],
   "source": [
    "_, _, nodes_covered_SW = influence_maximisation(G_SW1222, inlets_SW, len(inlets_SW))\n",
    "nodes_covered_frac_SW = np.asarray(nodes_covered_SW)/total_nodes_SW"
   ]
  },
  {
   "cell_type": "code",
   "execution_count": null,
   "metadata": {},
   "outputs": [],
   "source": [
    "plt.figure()\n",
    "plt.plot(np.arange(0, inlets_LS, 5)/len(inlets_LS), node_covered_frac_LS, label='LS174T')\n",
    "plt.plot(np.arange(0, inlets_SW, 5)/len(inlets_SW), node_covered_frac_SW, label='SW1222')\n",
    "plt.show()"
   ]
  },
  {
   "cell_type": "code",
   "execution_count": null,
   "metadata": {},
   "outputs": [],
   "source": []
  }
 ],
 "metadata": {
  "kernelspec": {
   "display_name": "Python 2",
   "language": "python",
   "name": "python2"
  },
  "language_info": {
   "codemirror_mode": {
    "name": "ipython",
    "version": 2
   },
   "file_extension": ".py",
   "mimetype": "text/x-python",
   "name": "python",
   "nbconvert_exporter": "python",
   "pygments_lexer": "ipython2",
   "version": "2.7.10"
  }
 },
 "nbformat": 4,
 "nbformat_minor": 2
}
