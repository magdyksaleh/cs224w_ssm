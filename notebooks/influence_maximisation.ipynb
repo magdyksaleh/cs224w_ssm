{
 "cells": [
  {
   "cell_type": "code",
   "execution_count": 1,
   "metadata": {},
   "outputs": [],
   "source": [
    "import snap\n",
    "import sys\n",
    "import os\n",
    "from tqdm import tqdm\n",
    "import matplotlib.pyplot as plt\n",
    "sys.path.append('../')\n",
    "from src.util import influence_maximisation, get_influence_set, getInletIds"
   ]
  },
  {
   "cell_type": "code",
   "execution_count": 2,
   "metadata": {},
   "outputs": [],
   "source": [
    "G_LS174T = snap.LoadEdgeList(snap.PNGraph, \"../data/Edgelist/LS174T_clean_EdgesList.txt\", 0, 1, '\\t')\n",
    "G_SW1222 = snap.LoadEdgeList(snap.PNGraph, \"../data/Edgelist/SW1222_clean_EdgesList.txt\", 0, 1, '\\t')"
   ]
  },
  {
   "cell_type": "code",
   "execution_count": 3,
   "metadata": {},
   "outputs": [],
   "source": [
    "total_nodes_LS = G_LS174T.GetNodes()\n",
    "total_nodes_SW = G_SW1222.GetNodes()\n",
    "inlets_LS = getInletIds(G_LS174T)\n",
    "inlets_SW = getInletIds(G_SW1222)"
   ]
  },
  {
   "cell_type": "code",
   "execution_count": null,
   "metadata": {},
   "outputs": [
    {
     "name": "stderr",
     "output_type": "stream",
     "text": [
      " 19%|█▉        | 69/359 [09:36<1:07:00, 13.86s/it]"
     ]
    }
   ],
   "source": [
    "node_covered_frac_LS = []\n",
    "for k in tqdm(range(0, len(inlets_LS), 5)):\n",
    "    optimal_set_LS, influence_set_LS = influence_maximisation(G_LS174T, inlets_LS, k)\n",
    "    node_covered_frac_LS.append((k, len(influence_set_LS)/total_nodes_LS))"
   ]
  },
  {
   "cell_type": "code",
   "execution_count": null,
   "metadata": {},
   "outputs": [],
   "source": [
    "node_covered_frac_SW = []\n",
    "for k in tqdm(range(0, len(inlets_SW), 5)):\n",
    "    optimal_set_SW, influence_set_SW = influence_maximisation(G_SW1222, inlets_SW, k)\n",
    "    node_covered_frac_SW.append((k, len(influence_set_SW)/total_nodes_SW))"
   ]
  },
  {
   "cell_type": "code",
   "execution_count": null,
   "metadata": {},
   "outputs": [],
   "source": [
    "plt.figure()\n",
    "plt.plot(np.arange(0, inlets_LS, 5)/len(inlets_LS), node_covered_frac_LS, label='LS174T')\n",
    "plt.plot(np.arange(0, inlets_SW, 5)/len(inlets_SW), node_covered_frac_SW, label='SW1222')\n",
    "plt.show()"
   ]
  },
  {
   "cell_type": "code",
   "execution_count": null,
   "metadata": {},
   "outputs": [],
   "source": []
  }
 ],
 "metadata": {
  "kernelspec": {
   "display_name": "Python 2",
   "language": "python",
   "name": "python2"
  },
  "language_info": {
   "codemirror_mode": {
    "name": "ipython",
    "version": 2
   },
   "file_extension": ".py",
   "mimetype": "text/x-python",
   "name": "python",
   "nbconvert_exporter": "python",
   "pygments_lexer": "ipython2",
   "version": "2.7.10"
  }
 },
 "nbformat": 4,
 "nbformat_minor": 2
}
