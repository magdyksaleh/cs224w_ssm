{
 "cells": [
  {
   "cell_type": "code",
   "execution_count": null,
   "metadata": {},
   "outputs": [],
   "source": [
    "import snap\n",
    "import sys\n",
    "import os\n",
    "import numpy as np\n",
    "from tqdm import tqdm\n",
    "import matplotlib.pyplot as plt\n",
    "sys.path.append('../')\n",
    "from src.util import influence_maximisation, get_influence_set, getInletIds"
   ]
  },
  {
   "cell_type": "code",
   "execution_count": null,
   "metadata": {},
   "outputs": [],
   "source": [
    "G_LS174T = snap.LoadEdgeList(snap.PNGraph, \"../data/Edgelist/LS174T_clean_EdgesList.txt\", 0, 1, '\\t')\n",
    "G_SW1222 = snap.LoadEdgeList(snap.PNGraph, \"../data/Edgelist/SW1222_clean_EdgesList.txt\", 0, 1, '\\t')"
   ]
  },
  {
   "cell_type": "code",
   "execution_count": null,
   "metadata": {},
   "outputs": [],
   "source": [
    "total_nodes_LS = G_LS174T.GetNodes()\n",
    "total_nodes_SW = G_SW1222.GetNodes()\n",
    "inlets_LS = getInletIds(G_LS174T)\n",
    "inlets_SW = getInletIds(G_SW1222)"
   ]
  },
  {
   "cell_type": "code",
   "execution_count": 4,
   "metadata": {},
   "outputs": [
    {
     "name": "stderr",
     "output_type": "stream",
     "text": [
      " 99%|█████████▊| 1770/1795 [07:30<00:00, 47.76it/s]"
     ]
    }
   ],
   "source": [
    "_, _, nodes_covered_LS = influence_maximisation(G_LS174T, inlets_LS, len(inlets_LS))\n",
    "nodes_covered_frac_LS = np.asarray(nodes_covered_LS)/total_nodes_LS"
   ]
  },
  {
   "cell_type": "code",
   "execution_count": null,
   "metadata": {},
   "outputs": [
    {
     "name": "stderr",
     "output_type": "stream",
     "text": [
      "\n",
      " 40%|███▉      | 3252/8170 [2:08:02<41:05:35, 30.08s/it]\u001b[A\n",
      " 40%|███▉      | 3253/8170 [2:08:32<41:06:57, 30.10s/it]\u001b[A\n",
      " 40%|███▉      | 3254/8170 [2:09:02<40:51:07, 29.92s/it]\u001b[A\n",
      " 40%|███▉      | 3255/8170 [2:09:31<40:22:26, 29.57s/it]\u001b[A\n",
      " 40%|███▉      | 3256/8170 [2:10:01<40:29:05, 29.66s/it]\u001b[A\n",
      " 40%|███▉      | 3257/8170 [2:10:31<40:37:35, 29.77s/it]\u001b[A\n",
      " 40%|███▉      | 3258/8170 [2:11:01<40:42:10, 29.83s/it]\u001b[A\n",
      " 40%|███▉      | 3259/8170 [2:11:30<40:29:00, 29.68s/it]\u001b[A\n",
      " 40%|███▉      | 3260/8170 [2:12:00<40:35:38, 29.76s/it]\u001b[A\n",
      " 40%|███▉      | 3261/8170 [2:12:30<40:34:19, 29.75s/it]\u001b[A\n",
      " 40%|███▉      | 3262/8170 [2:13:00<40:38:33, 29.81s/it]\u001b[A\n",
      " 40%|███▉      | 3263/8170 [2:13:28<40:14:36, 29.52s/it]\u001b[A\n",
      " 40%|███▉      | 3264/8170 [2:13:58<40:20:16, 29.60s/it]\u001b[A\n",
      " 40%|███▉      | 3265/8170 [2:14:29<40:42:41, 29.88s/it]\u001b[A\n",
      " 40%|███▉      | 3266/8170 [2:14:59<40:54:28, 30.03s/it]\u001b[A\n",
      " 40%|███▉      | 3267/8170 [2:15:29<40:58:26, 30.09s/it]\u001b[A\n",
      " 40%|████      | 3268/8170 [2:15:59<41:00:37, 30.12s/it]\u001b[A\n",
      " 40%|████      | 3269/8170 [2:16:29<40:53:00, 30.03s/it]\u001b[A\n",
      " 40%|████      | 3270/8170 [2:17:00<41:09:54, 30.24s/it]\u001b[A\n",
      " 40%|████      | 3271/8170 [2:17:27<39:50:10, 29.27s/it]\u001b[A\n",
      " 40%|████      | 3272/8170 [2:17:58<40:21:53, 29.67s/it]\u001b[A\n",
      " 40%|████      | 3273/8170 [2:18:26<39:37:08, 29.13s/it]\u001b[A"
     ]
    }
   ],
   "source": [
    "_, _, nodes_covered_SW = influence_maximisation(G_SW1222, inlets_SW, len(inlets_SW))\n",
    "nodes_covered_frac_SW = np.asarray(nodes_covered_SW)/total_nodes_SW"
   ]
  },
  {
   "cell_type": "code",
   "execution_count": null,
   "metadata": {},
   "outputs": [],
   "source": [
    "plt.figure()\n",
    "plt.plot(np.arange(0, inlets_LS, 5)/len(inlets_LS), node_covered_frac_LS, label='LS174T')\n",
    "plt.plot(np.arange(0, inlets_SW, 5)/len(inlets_SW), node_covered_frac_SW, label='SW1222')\n",
    "plt.show()"
   ]
  },
  {
   "cell_type": "code",
   "execution_count": null,
   "metadata": {},
   "outputs": [],
   "source": []
  }
 ],
 "metadata": {
  "kernelspec": {
   "display_name": "Python 2",
   "language": "python",
   "name": "python2"
  },
  "language_info": {
   "codemirror_mode": {
    "name": "ipython",
    "version": 2
   },
   "file_extension": ".py",
   "mimetype": "text/x-python",
   "name": "python",
   "nbconvert_exporter": "python",
   "pygments_lexer": "ipython2",
   "version": "2.7.10"
  }
 },
 "nbformat": 4,
 "nbformat_minor": 2
}
