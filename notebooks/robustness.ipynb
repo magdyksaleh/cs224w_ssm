{
 "cells": [
  {
   "cell_type": "markdown",
   "metadata": {},
   "source": [
    "# Robustness"
   ]
  },
  {
   "cell_type": "code",
   "execution_count": 1,
   "metadata": {},
   "outputs": [
    {
     "data": {
      "text/plain": [
       "<module 'util_data' from '../src/util_data.pyc'>"
      ]
     },
     "execution_count": 1,
     "metadata": {},
     "output_type": "execute_result"
    }
   ],
   "source": [
    "import sys\n",
    "import snap\n",
    "import numpy as np\n",
    "import tqdm\n",
    "from random import sample, shuffle\n",
    "from matplotlib import pyplot as plt\n",
    "sys.path.append('../src/')\n",
    "import util\n",
    "import util_data\n",
    "reload(util)\n",
    "reload(util_data)"
   ]
  },
  {
   "cell_type": "code",
   "execution_count": 22,
   "metadata": {},
   "outputs": [],
   "source": [
    "def load_graph(nm):\n",
    "    if nm =='LS':\n",
    "        return snap.LoadEdgeList(snap.PNGraph, \"../data/Edgelist_v2/LS174T_clean_EdgesList.txt\", 0, 1)\n",
    "    elif nm=='SW':\n",
    "        return snap.LoadEdgeList(snap.PNGraph, \"../data/Edgelist_v2/SW1222_clean_EdgesList.txt\", 0, 1)\n",
    "    else:\n",
    "        print('ERROR LOADING')\n",
    "G_LS174t = load_graph('LS')\n",
    "G_SW1222 = load_graph('SW')\n",
    "G_LS174t_nodes = G_LS174t.GetNodes()\n",
    "G_SW1222_nodes = G_SW1222.GetNodes()"
   ]
  },
  {
   "cell_type": "code",
   "execution_count": 3,
   "metadata": {},
   "outputs": [],
   "source": [
    "def genErdosRenyi(N=5242, E=14484):\n",
    "    \"\"\"\n",
    "    :param - N: number of nodes\n",
    "    :param - E: number of edges\n",
    "\n",
    "    return type: snap.PUNGraph\n",
    "    return: Erdos-Renyi graph with N nodes and E edges\n",
    "    \"\"\"\n",
    "    ############################################################################\n",
    "    # TODO: Your code here!\n",
    "    Graph = snap.TNGraph.New()\n",
    "    \n",
    "    # add nodes\n",
    "    for n in range(N):\n",
    "        Graph.AddNode(n)\n",
    "    \n",
    "    # keep selecting edges randomly\n",
    "    e = 0\n",
    "    while e!=E:\n",
    "        n1,n2 = np.random.choice(range(N), 2, replace=False)\n",
    "        if not Graph.IsEdge(n1, n2):\n",
    "            Graph.AddEdge(n1, n2)\n",
    "            e += 1\n",
    "    print('Done Erdos Renyi')\n",
    "    ############################################################################\n",
    "    return Graph\n"
   ]
  },
  {
   "cell_type": "code",
   "execution_count": 4,
   "metadata": {},
   "outputs": [],
   "source": [
    "LS_radii = util_data.loadNodeAttr('../data/og_files/LS174T_spatialGraph_RIN.txt', attr='radius')\n",
    "LS_pressure = util_data.loadNodeAttr('../data/og_files/LS174T_spatialGraph_RIN.txt', attr='pressure')\n",
    "LS_flow = util_data.loadNodeAttr('../data/og_files/LS174T_spatialGraph_RIN.txt', attr='flow')"
   ]
  },
  {
   "cell_type": "code",
   "execution_count": 5,
   "metadata": {},
   "outputs": [],
   "source": [
    "def graph_attack(G, iters=100, del_per_iter=100, order=None):\n",
    "    reachabilities = []\n",
    "    if not order:\n",
    "        order = [x.GetId() for x in G.Nodes()]\n",
    "        shuffle(order)\n",
    "\n",
    "    for _ in tqdm.tqdm(range(iters)):        \n",
    "        for _ in range(del_per_iter):\n",
    "            G.DelNode(order.pop(0))    \n",
    "            \n",
    "        reachabilities.append(snap.GetMxWcc(G).GetNodes())\n",
    "    return reachabilities"
   ]
  },
  {
   "cell_type": "code",
   "execution_count": 6,
   "metadata": {},
   "outputs": [],
   "source": [
    "def get_inlet_nodes(G):\n",
    "    nds = []\n",
    "    for n in G.Nodes():\n",
    "        if n.GetInDeg() == 0:\n",
    "            nds.append(n.GetId())\n",
    "    return nds"
   ]
  },
  {
   "cell_type": "code",
   "execution_count": 7,
   "metadata": {},
   "outputs": [],
   "source": [
    "G_SW1222_inlets = get_inlet_nodes(G_SW1222)\n",
    "G_LS174t_inlets = get_inlet_nodes(G_LS174t)"
   ]
  },
  {
   "cell_type": "code",
   "execution_count": 8,
   "metadata": {},
   "outputs": [
    {
     "data": {
      "text/plain": [
       "(1751, 10209)"
      ]
     },
     "execution_count": 8,
     "metadata": {},
     "output_type": "execute_result"
    }
   ],
   "source": [
    "len(G_LS174t_inlets), len(G_SW1222_inlets)"
   ]
  },
  {
   "cell_type": "code",
   "execution_count": null,
   "metadata": {},
   "outputs": [],
   "source": [
    "r1 = random_attack(G_LS174t, G_LS174t_inlets, iters=150, del_per_iter=100)"
   ]
  },
  {
   "cell_type": "code",
   "execution_count": null,
   "metadata": {},
   "outputs": [],
   "source": [
    "r_sw = random_attack(G_SW1222, G_SW1222_inlets, iters=100, del_per_iter=500)"
   ]
  },
  {
   "cell_type": "code",
   "execution_count": 121,
   "metadata": {},
   "outputs": [
    {
     "name": "stderr",
     "output_type": "stream",
     "text": [
      "100%|██████████| 150/150 [00:01<00:00, 80.22it/s] \n",
      "100%|██████████| 150/150 [00:01<00:00, 84.01it/s] \n",
      "100%|██████████| 150/150 [00:01<00:00, 83.82it/s] \n"
     ]
    }
   ],
   "source": [
    "G_LS174t = load_graph('LS')\n",
    "LS_nodes = set([x.GetId() for x in G_LS174t.Nodes()])\n",
    "\n",
    "G_LS174t = load_graph('LS')\n",
    "press_sorted = [x[0] for x in sorted(LS_pressure.items(), key=lambda x:-x[1]) if x[0] in LS_nodes]\n",
    "r_LS_presattack = graph_attack(G_LS174t, iters=150, del_per_iter=100, order=press_sorted)\n",
    "\n",
    "G_LS174t = load_graph('LS')\n",
    "flow_sorted = [x[0] for x in sorted(LS_flow.items(), key=lambda x:-x[1]) if x[0] in LS_nodes]\n",
    "r_LS_flowattack = graph_attack(G_LS174t, iters=150, del_per_iter=100, order=flow_sorted)\n",
    "\n",
    "G_LS174t = load_graph('LS')\n",
    "radii_sorted = [x[0] for x in sorted(LS_radii.items(), key=lambda x:-x[1]) if x[0] in LS_nodes]\n",
    "r_LS_radattack = graph_attack(G_LS174t, iters=150, del_per_iter=100, order=radii_sorted)"
   ]
  },
  {
   "cell_type": "code",
   "execution_count": 17,
   "metadata": {},
   "outputs": [
    {
     "name": "stderr",
     "output_type": "stream",
     "text": [
      "100%|██████████| 150/150 [00:01<00:00, 85.38it/s] \n"
     ]
    }
   ],
   "source": [
    "G_LS174t = load_graph('LS')\n",
    "r_LS_rand = graph_attack(G_LS174t, iters=150, del_per_iter=100, order=None)"
   ]
  },
  {
   "cell_type": "code",
   "execution_count": 18,
   "metadata": {},
   "outputs": [
    {
     "name": "stderr",
     "output_type": "stream",
     "text": [
      "100%|██████████| 500/500 [00:32<00:00, 15.38it/s]\n"
     ]
    }
   ],
   "source": [
    "G_SW1222 = load_graph('SW')\n",
    "r_SW_rand = graph_attack(G_SW1222, iters=500, del_per_iter=100, order=None)"
   ]
  },
  {
   "cell_type": "code",
   "execution_count": 14,
   "metadata": {},
   "outputs": [
    {
     "name": "stdout",
     "output_type": "stream",
     "text": [
      "Done Erdos Renyi\n"
     ]
    }
   ],
   "source": [
    "G_LS174t = load_graph('LS')\n",
    "G_ER_LS = genErdosRenyi(G_LS174t.GetNodes(), G_LS174t.GetEdges())"
   ]
  },
  {
   "cell_type": "code",
   "execution_count": 15,
   "metadata": {},
   "outputs": [
    {
     "name": "stderr",
     "output_type": "stream",
     "text": [
      "100%|██████████| 120/120 [00:01<00:00, 66.91it/s]\n"
     ]
    }
   ],
   "source": [
    "attack_ER_rand = graph_attack(G_ER_LS, iters=120, del_per_iter=100, order=None)"
   ]
  },
  {
   "cell_type": "code",
   "execution_count": 28,
   "metadata": {},
   "outputs": [
    {
     "name": "stderr",
     "output_type": "stream",
     "text": [
      "  0%|          | 0/500 [00:00<?, ?it/s]"
     ]
    },
    {
     "name": "stdout",
     "output_type": "stream",
     "text": [
      "Done Erdos Renyi\n"
     ]
    },
    {
     "name": "stderr",
     "output_type": "stream",
     "text": [
      "100%|██████████| 500/500 [00:36<00:00, 13.68it/s]\n"
     ]
    }
   ],
   "source": [
    "G_SW1222 = load_graph('SW')\n",
    "G_ER_SW = genErdosRenyi(G_SW1222.GetNodes(), G_SW1222.GetEdges())\n",
    "attack_ER_SW_rand = graph_attack(G_ER_SW, iters=500, del_per_iter=100, order=None)"
   ]
  },
  {
   "cell_type": "code",
   "execution_count": 10,
   "metadata": {},
   "outputs": [],
   "source": [
    "G_LS174t = load_graph('LS')\n",
    "betweeness_nodes_LS = snap.TIntFltH()\n",
    "betweeness_edges_LS = snap.TIntPrFltH()\n",
    "snap.GetBetweennessCentr(G_LS174t, betweeness_nodes_LS, betweeness_edges_LS, 0.6)"
   ]
  },
  {
   "cell_type": "code",
   "execution_count": 9,
   "metadata": {},
   "outputs": [],
   "source": [
    "G_SW1222 = load_graph('SW')\n",
    "betweeness_nodes_SW = snap.TIntFltH()\n",
    "betweeness_edges_SW = snap.TIntPrFltH()\n",
    "snap.GetBetweennessCentr(G_SW1222, betweeness_nodes_SW, betweeness_edges_SW, 0.1)"
   ]
  },
  {
   "cell_type": "code",
   "execution_count": 11,
   "metadata": {},
   "outputs": [],
   "source": [
    "betweeness_nodes_LS = [(x,betweeness_nodes_LS[x]) for x in betweeness_nodes_LS]\n",
    "betweeness_nodes_SW = [(x,betweeness_nodes_SW[x]) for x in betweeness_nodes_SW]"
   ]
  },
  {
   "cell_type": "code",
   "execution_count": 12,
   "metadata": {},
   "outputs": [
    {
     "name": "stderr",
     "output_type": "stream",
     "text": [
      "100%|██████████| 150/150 [00:01<00:00, 91.15it/s] \n"
     ]
    }
   ],
   "source": [
    "betweenness_order = [x[0] for x in sorted(betweeness_nodes_LS, key=lambda x:-x[1])]\n",
    "G_LS174t = load_graph('LS')\n",
    "r_LS_bet = graph_attack(G_LS174t, iters=150, del_per_iter=100, order=betweenness_order)"
   ]
  },
  {
   "cell_type": "code",
   "execution_count": 13,
   "metadata": {},
   "outputs": [
    {
     "name": "stderr",
     "output_type": "stream",
     "text": [
      "100%|██████████| 500/500 [00:26<00:00, 19.12it/s]\n"
     ]
    }
   ],
   "source": [
    "betweenness_order = [x[0] for x in sorted(betweeness_nodes_SW, key=lambda x:-x[1])]\n",
    "G_SW1222 = load_graph('SW')\n",
    "r_SW_bet = graph_attack(G_SW1222, iters=500, del_per_iter=100, order=betweenness_order)"
   ]
  },
  {
   "cell_type": "code",
   "execution_count": 83,
   "metadata": {},
   "outputs": [
    {
     "name": "stderr",
     "output_type": "stream",
     "text": [
      "100%|██████████| 150/150 [00:02<00:00, 70.73it/s] \n"
     ]
    }
   ],
   "source": [
    "from random import shuffle\n",
    "G_LS174t = load_graph('LS')\n",
    "G_LS174t_inlets = get_inlet_nodes(G_LS174t)\n",
    "left = list(set(range(G_LS174t.GetNodes()))-set(G_LS174t_inlets))\n",
    "shuffle(left)\n",
    "inlet_order = G_LS174t_inlets + left\n",
    "shuffle(inlet_order)\n",
    "r_LS_inletattack = graph_attack(G_LS174t, iters=150, del_per_iter=100, order=inlet_order)"
   ]
  },
  {
   "cell_type": "code",
   "execution_count": null,
   "metadata": {},
   "outputs": [],
   "source": []
  },
  {
   "cell_type": "code",
   "execution_count": 46,
   "metadata": {},
   "outputs": [
    {
     "data": {
      "image/png": "[encoded data removed]",
      "text/plain": [
       "<Figure size 666x378 with 1 Axes>"
      ]
     },
     "metadata": {
      "needs_background": "light"
     },
     "output_type": "display_data"
    }
   ],
   "source": [
    "plt.plot([(100*x)/float(G_LS174t_nodes) for x in range(len(r_LS_rand))], \n",
    "         [x/float(G_LS174t_nodes) for x in r_LS_rand], label='Random (L174t)', linestyle='--')\n",
    "plt.plot([(100*x)/float(G_SW1222_nodes) for x in range(len(r_SW_rand))], \n",
    "         [x/float(G_SW1222_nodes) for x in r_SW_rand], label='Random (SW1222)', linestyle='-.')\n",
    "plt.plot([(100*x)/float(G_LS174t_nodes) for x in range(len(attack_ER_rand))], \n",
    "         [x/float(G_LS174t_nodes) for x in attack_ER_rand], label='Random (Erdos-Renyi LS174t)')\n",
    "plt.plot([(100*x)/float(G_SW1222_nodes) for x in range(len(attack_ER_SW_rand))], \n",
    "         [x/float(G_SW1222_nodes) for x in attack_ER_SW_rand], label='Random (Erdos-Renyi SW1222)')\n",
    "\n",
    "\n",
    "#plt.plot([(100*x)/float(G_LS174t_nodes) for x in range(len(r_LS_flowattack))], \n",
    "#         [x/float(G_LS174t_nodes) for x in r_LS_flowattack], label='flow attack LS')\n",
    "\n",
    "\n",
    "plt.plot([(100*x)/float(G_LS174t_nodes) for x in range(len(r_LS_bet))], \n",
    "         [x/float(G_LS174t_nodes) for x in r_LS_bet], label='Betweenness (LS174t)', linestyle='--')\n",
    "plt.plot([(100*x)/float(G_SW1222_nodes) for x in range(len(r_SW_bet))], \n",
    "         [x/float(G_SW1222_nodes) for x in r_SW_bet], label='Betweenness (SW1222)', linestyle='-.')\n",
    "\n",
    "plt.xlabel('Fraction of Nodes Deleted')\n",
    "plt.ylabel('Fraction of Nodes in Largest WCC')\n",
    "plt.grid()\n",
    "#plt.plot([(100*x)/float(G_LS174t_nodes) for x in range(len(r_LS_inletattack))], \n",
    "#         [x/float(G_LS174t_nodes) for x in r_LS_inletattack], label='inlet_on_LS')\n",
    "#\n",
    "\n",
    "plt.legend()\n",
    "plt.gcf().set_size_inches(9.25, 5.25)\n",
    "plt.savefig('../figs/robustness.pdf')"
   ]
  },
  {
   "cell_type": "code",
   "execution_count": null,
   "metadata": {},
   "outputs": [],
   "source": []
  }
 ],
 "metadata": {
  "kernelspec": {
   "display_name": "Python 2",
   "language": "python",
   "name": "python2"
  },
  "language_info": {
   "codemirror_mode": {
    "name": "ipython",
    "version": 2
   },
   "file_extension": ".py",
   "mimetype": "text/x-python",
   "name": "python",
   "nbconvert_exporter": "python",
   "pygments_lexer": "ipython2",
   "version": "2.7.10"
  }
 },
 "nbformat": 4,
 "nbformat_minor": 2
}
